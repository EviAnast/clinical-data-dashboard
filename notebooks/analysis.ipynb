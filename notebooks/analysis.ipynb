<<<<<<< HEAD
{
 "cells": [
  {
   "cell_type": "code",
   "execution_count": null,
   "id": "49825f1e",
   "metadata": {},
   "outputs": [],
   "source": [
    "import pandas as pd\n",
    "import matplotlib.pyplot as plt\n",
    "import seaborn as sns"
   ]
  }
 ],
 "metadata": {
  "kernelspec": {
   "display_name": "venv",
   "language": "python",
   "name": "python3"
  },
  "language_info": {
   "name": "python",
   "version": "3.13.1"
  }
 },
 "nbformat": 4,
 "nbformat_minor": 5
}
=======
import pandas as pd
import matplotlib.pyplot as plt
import seaborn as sns

patients = pd.read_csv("/Users/eueanastasiou/Documents/GitHub/clinical-data-dashboard/data/patients.csv")
vitals = pd.read_csv("/Users/eueanastasiou/Documents/GitHub/clinical-data-dashboard/data/vitals.csv")

df = pd.merge(vitals, patients, on='patient_id)

df['bmi'] = df['weight_kg']/((df['height_cm] / 100) ** 2)

df['high_bp'] = df['systolic_bp'] > 140 | df['diastolic_bp'] > 90
df.head()
df.info()
>>>>>>> b1245ae12e5145e19a81178a13b8e9f1ffd6fff4
