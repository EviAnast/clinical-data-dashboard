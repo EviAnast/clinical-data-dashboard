import pandas as pd
import matplotlib.pyplot as plt
import seaborn as sns

patients = pd.read_csv("/Users/eueanastasiou/Documents/GitHub/clinical-data-dashboard/data/patients.csv")
vitals = pd.read_csv("/Users/eueanastasiou/Documents/GitHub/clinical-data-dashboard/data/vitals.csv")

df = pd.merge(vitals, patients, on='patient_id)

df['bmi'] = df['weight_kg']/((df['height_cm] / 100) ** 2)

df['high_bp'] = df['systolic_bp'] > 140 | df['diastolic_bp'] > 90
df.head()
df.info()
